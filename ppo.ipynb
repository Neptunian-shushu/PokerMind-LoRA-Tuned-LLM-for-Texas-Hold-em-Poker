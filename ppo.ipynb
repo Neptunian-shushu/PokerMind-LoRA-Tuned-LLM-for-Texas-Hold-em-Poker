{
 "cells": [
  {
   "cell_type": "code",
   "execution_count": 1,
   "id": "89421f85",
   "metadata": {},
   "outputs": [
    {
     "name": "stdout",
     "output_type": "stream",
     "text": [
      "[Ten Of Heart, Five Of Club, Two Of Diamond, Six Of Diamond, Three Of Diamond]\n"
     ]
    }
   ],
   "source": [
    "from poker_game import Deck, Card\n",
    "\n",
    "deck = Deck()  # Reproducible shuffling\n",
    "cards = deck.deal(5)  # Deal 5 cards\n",
    "print(cards)  # [Ah, Kd, Qs, Jc, Ts]"
   ]
  },
  {
   "cell_type": "code",
   "execution_count": 2,
   "id": "32de4841",
   "metadata": {},
   "outputs": [
    {
     "name": "stdout",
     "output_type": "stream",
     "text": [
      "Two Pair\n"
     ]
    }
   ],
   "source": [
    "from poker_game import HandEvaluator, Card\n",
    "\n",
    "cards = [Card.from_string(s) for s in ['Ah', 'Ad', 'Kh', 'Kd', 'Qs']]\n",
    "hand_rank, tiebreakers = HandEvaluator.evaluate_hand(cards)\n",
    "description = HandEvaluator.get_hand_description(cards)\n",
    "print(description)  # \"Two Pair\""
   ]
  },
  {
   "cell_type": "code",
   "execution_count": null,
   "id": "3f252340",
   "metadata": {},
   "outputs": [
    {
     "name": "stdout",
     "output_type": "stream",
     "text": [
      "190.0\n"
     ]
    }
   ],
   "source": [
    "from poker_game import GameState, PlayerState, Action\n",
    "\n",
    "player = PlayerState(player_id=0, stack=100.0)\n",
    "player.bet(10.0)  # Place a bet\n",
    "print(player.stack)  # 90.0"
   ]
  },
  {
   "cell_type": "code",
   "execution_count": 4,
   "id": "6f5a2f16",
   "metadata": {},
   "outputs": [
    {
     "name": "stdout",
     "output_type": "stream",
     "text": [
      "Hand #1 - PREFLOP\n",
      "Board: (no cards yet)\n",
      "Pot: $8.0\n",
      "\n",
      "Players:\n",
      "  BB (P0): $99.0 (ACTIVE) [Five Of Club Ace Of Spade]\n",
      "  SB (P1): $93.0 (ACTIVE) [Six Of Diamond King Of Diamond]\n",
      "\n",
      "Action on: BB (P0)\n",
      "Current bet: $7.0\n"
     ]
    }
   ],
   "source": [
    "from poker_game import PokerGame, Action\n",
    "\n",
    "# Create a game\n",
    "game = PokerGame(num_players=2, starting_stack=100.0, small_blind=0.5, big_blind=1.0)\n",
    "\n",
    "# Start a hand\n",
    "state = game.reset()\n",
    "\n",
    "# Get valid actions for current player\n",
    "player = state.current_player()\n",
    "valid_actions = state.get_valid_actions(player)\n",
    "\n",
    "# Execute an action\n",
    "new_state, hand_complete, result = game.step(Action.RAISE, amount=6.0)\n",
    "\n",
    "# Print game state\n",
    "print(game.get_game_state_string())"
   ]
  },
  {
   "cell_type": "code",
   "execution_count": 5,
   "id": "5203140b",
   "metadata": {},
   "outputs": [
    {
     "name": "stdout",
     "output_type": "stream",
     "text": [
      "Current player: 0 (BB)\n",
      "Current player index: 0\n",
      "It's someone's turn - action required\n",
      "Valid actions for current player: ['fold', 'call', 'raise']\n"
     ]
    }
   ],
   "source": [
    "# Method 1: Use state.current_player()\n",
    "current_player = state.current_player()\n",
    "print(f\"Current player: {current_player.player_id} ({current_player.position})\")\n",
    "\n",
    "# Method 2: Use state.current_player_idx\n",
    "print(f\"Current player index: {state.current_player_idx}\")\n",
    "\n",
    "# Method 3: Check if betting round is complete\n",
    "if not state.is_betting_round_complete():\n",
    "    print(\"It's someone's turn - action required\")\n",
    "else:\n",
    "    print(\"Betting round is complete - no action needed\")\n",
    "\n",
    "# Method 4: Get valid actions for current player\n",
    "valid_actions = state.get_valid_actions(current_player)\n",
    "print(f\"Valid actions for current player: {[a.value for a in valid_actions]}\")"
   ]
  },
  {
   "cell_type": "code",
   "execution_count": 6,
   "id": "579dfe63",
   "metadata": {},
   "outputs": [
    {
     "name": "stdout",
     "output_type": "stream",
     "text": [
      "Current betting round: BettingRound.PREFLOP\n",
      "Action history: [{'player_id': 1, 'action': 'bet', 'amount': 0.5, 'betting_round': 'preflop', 'pot_after': 0.5, 'is_blind': True}, {'player_id': 0, 'action': 'bet', 'amount': 1.0, 'betting_round': 'preflop', 'pot_after': 1.5, 'is_blind': True}, {'player_id': 1, 'action': 'raise', 'amount': 6.0, 'betting_round': 'preflop', 'pot_after': 8.0, 'is_blind': False}]\n",
      "\n",
      "LLM Prompt:\n",
      "You are a specialist in playing heads-up No Limit Texas Holdem. The following will be a game scenario and you need to make the optimal decision.\n",
      "\n",
      "Here is a game summary:\n",
      "\n",
      "The small blind is 0.5 chips and the big blind is 1.0 chips. Everyone started with 100.0 chips.\n",
      "The player positions involved in this game are SB, BB.\n",
      "In this hand, your position is BB, and your holding is [Five Of Club and Ace Of Spade].\n",
      "Before the flop, SB raise 6.0 chips. Assume that all other players that is not mentioned folded.\n",
      "\n",
      "Now it is your turn to make a move.\n",
      "To remind you, the current pot size is 8.0 chips, and your holding is [Five Of Club and Ace Of Spade].\n",
      "\n",
      "Decide on an action based on the strength of your hand on this board, your position, and actions before you. Do not explain your answer.\n",
      "Your optimal action is:\n"
     ]
    }
   ],
   "source": [
    "# Test LLM prompt generation\n",
    "print(f\"Current betting round: {state.betting_round}\")\n",
    "print(f\"Action history: {state.action_history}\")\n",
    "print()\n",
    "\n",
    "prompt = state.get_llm_prompt(player_perspective=0)\n",
    "print(\"LLM Prompt:\")\n",
    "print(prompt)"
   ]
  },
  {
   "cell_type": "code",
   "execution_count": 13,
   "id": "2d6eb4b0",
   "metadata": {},
   "outputs": [
    {
     "name": "stdout",
     "output_type": "stream",
     "text": [
      "6-handed poker:\n",
      "Button position: 1\n",
      "Player positions:\n",
      "  Player 0: CO\n",
      "  Player 1: BTN\n",
      "  Player 2: SB\n",
      "  Player 3: BB\n",
      "  Player 4: UTG\n",
      "  Player 5: HJ\n",
      "Action history:\n",
      "  SB: bet 0.5\n",
      "  BB: bet 1.0\n",
      "Current player: UTG (P4)\n",
      "\n",
      "Game state:\n",
      "Hand #1 - PREFLOP\n",
      "Board: (no cards yet)\n",
      "Pot: $1.5\n",
      "\n",
      "Players:\n",
      "  CO (P0): $100.0 (ACTIVE) [Ten Of Spade Jack Of Diamond]\n",
      "  BTN (P1): $100.0 (ACTIVE) [Five Of Club Eight Of Club]\n",
      "  SB (P2): $99.5 (ACTIVE) [Jack Of Spade Seven Of Spade]\n",
      "  BB (P3): $99.0 (ACTIVE) [Five Of Spade Five Of Diamond]\n",
      "  UTG (P4): $100.0 (ACTIVE) [Eight Of Spade Five Of Heart]\n",
      "  HJ (P5): $100.0 (ACTIVE) [Four Of Heart Queen Of Spade]\n",
      "\n",
      "Action on: UTG (P4)\n",
      "Current bet: $1.0\n"
     ]
    }
   ],
   "source": [
    "# Test 6-player game\n",
    "from poker_game import PokerGame\n",
    "\n",
    "# Create a 6-player game\n",
    "game6 = PokerGame(num_players=6, starting_stack=100.0, small_blind=0.5, big_blind=1.0)\n",
    "state6 = game6.reset()\n",
    "\n",
    "print('6-handed poker:')\n",
    "print(f'Button position: {state6.button_position}')\n",
    "print('Player positions:')\n",
    "for i, player in enumerate(game6.players):\n",
    "    print(f'  Player {i}: {player.position}')\n",
    "print('Action history:')\n",
    "for action in state6.action_history:\n",
    "    player_pos = game6.players[action['player_id']].position\n",
    "    print(f'  {player_pos}: {action[\"action\"]} {action[\"amount\"]}')\n",
    "print(f'Current player: {state6.current_player().position} (P{state6.current_player_idx})')\n",
    "print()\n",
    "print('Game state:')\n",
    "print(game6.get_game_state_string())"
   ]
  },
  {
   "cell_type": "code",
   "execution_count": 8,
   "id": "6cca0157",
   "metadata": {},
   "outputs": [
    {
     "name": "stdout",
     "output_type": "stream",
     "text": [
      "Direct stack check:\n",
      "  Player 0 (CO): $100.0\n",
      "  Player 1 (BTN): $100.0\n",
      "  Player 2 (SB): $99.5\n",
      "  Player 3 (BB): $99.0\n",
      "  Player 4 (UTG): $100.0\n",
      "  Player 5 (HJ): $100.0\n"
     ]
    }
   ],
   "source": [
    "print('Direct stack check:')\n",
    "for i, player in enumerate(game6.players):\n",
    "    print(f'  Player {i} ({player.position}): ${player.stack:.1f}')"
   ]
  }
 ],
 "metadata": {
  "kernelspec": {
   "display_name": "cs6220",
   "language": "python",
   "name": "python3"
  },
  "language_info": {
   "codemirror_mode": {
    "name": "ipython",
    "version": 3
   },
   "file_extension": ".py",
   "mimetype": "text/x-python",
   "name": "python",
   "nbconvert_exporter": "python",
   "pygments_lexer": "ipython3",
   "version": "3.9.23"
  }
 },
 "nbformat": 4,
 "nbformat_minor": 5
}
